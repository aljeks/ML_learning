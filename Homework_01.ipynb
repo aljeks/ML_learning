{
 "cells": [
  {
   "cell_type": "code",
   "execution_count": 3,
   "id": "8913facb",
   "metadata": {},
   "outputs": [],
   "source": [
    "import numpy as np\n",
    "import pandas as pd\n"
   ]
  },
  {
   "cell_type": "code",
   "execution_count": 6,
   "id": "752f3ec8",
   "metadata": {},
   "outputs": [
    {
     "data": {
      "text/plain": [
       "'1.20.1'"
      ]
     },
     "execution_count": 6,
     "metadata": {},
     "output_type": "execute_result"
    }
   ],
   "source": [
    "### Question 1\n",
    "np.__version__\n"
   ]
  },
  {
   "cell_type": "code",
   "execution_count": 11,
   "id": "a492673d",
   "metadata": {},
   "outputs": [
    {
     "data": {
      "text/plain": [
       "'1.2.4'"
      ]
     },
     "execution_count": 11,
     "metadata": {},
     "output_type": "execute_result"
    }
   ],
   "source": [
    "### Question 2\n",
    "pd.__version__"
   ]
  },
  {
   "cell_type": "code",
   "execution_count": 16,
   "id": "9887bc20",
   "metadata": {},
   "outputs": [
    {
     "data": {
      "text/plain": [
       "61546.76347305389"
      ]
     },
     "execution_count": 16,
     "metadata": {},
     "output_type": "execute_result"
    }
   ],
   "source": [
    "### Question 3\n",
    "data = pd.read_csv('data.csv.txt')\n",
    "\n",
    "data[\n",
    "    data['Make']=='BMW'\n",
    "].MSRP.mean()"
   ]
  },
  {
   "cell_type": "code",
   "execution_count": 17,
   "id": "99d22e74",
   "metadata": {},
   "outputs": [
    {
     "data": {
      "text/plain": [
       "51"
      ]
     },
     "execution_count": 17,
     "metadata": {},
     "output_type": "execute_result"
    }
   ],
   "source": [
    "### Question 4\n",
    "data[\n",
    "    (data['Year']>=2015) & (data['Engine HP'].isnull())\n",
    "].count()['Model']"
   ]
  },
  {
   "cell_type": "code",
   "execution_count": 18,
   "id": "13924307",
   "metadata": {},
   "outputs": [
    {
     "name": "stdout",
     "output_type": "stream",
     "text": [
      "249\n",
      "249\n"
     ]
    }
   ],
   "source": [
    "### Question 5\n",
    "mean_hp_before = round(data['Engine HP'].mean())\n",
    "print(mean_hp_before)\n",
    "data = data.fillna(mean_hp_before)\n",
    "mean_hp_after = round(data['Engine HP'].mean())\n",
    "print(mean_hp_after)"
   ]
  },
  {
   "cell_type": "code",
   "execution_count": 19,
   "id": "54228829",
   "metadata": {},
   "outputs": [
    {
     "data": {
      "text/plain": [
       "0.032212320677486195"
      ]
     },
     "execution_count": 19,
     "metadata": {},
     "output_type": "execute_result"
    }
   ],
   "source": [
    "### Question 6\n",
    "X = data[\n",
    "    data['Make']=='Rolls-Royce'\n",
    "][['Engine HP', 'Engine Cylinders', 'highway MPG']].drop_duplicates().values\n",
    "XTX = X.T.dot(X)\n",
    "np.linalg.inv(XTX).sum()"
   ]
  },
  {
   "cell_type": "code",
   "execution_count": 24,
   "id": "c4f85bbc",
   "metadata": {},
   "outputs": [
    {
     "data": {
      "text/plain": [
       "0.19989598183186175"
      ]
     },
     "execution_count": 24,
     "metadata": {},
     "output_type": "execute_result"
    }
   ],
   "source": [
    "### Question 7\n",
    "y = np.array([1000, 1100, 900, 1200, 1000, 850, 1300])\n",
    "w = np.linalg.inv(XTX).dot(X.T).dot(y)\n",
    "w[0]"
   ]
  },
  {
   "cell_type": "code",
   "execution_count": null,
   "id": "f45329cd",
   "metadata": {},
   "outputs": [],
   "source": []
  }
 ],
 "metadata": {
  "kernelspec": {
   "display_name": "Python 3",
   "language": "python",
   "name": "python3"
  },
  "language_info": {
   "codemirror_mode": {
    "name": "ipython",
    "version": 3
   },
   "file_extension": ".py",
   "mimetype": "text/x-python",
   "name": "python",
   "nbconvert_exporter": "python",
   "pygments_lexer": "ipython3",
   "version": "3.8.8"
  }
 },
 "nbformat": 4,
 "nbformat_minor": 5
}
