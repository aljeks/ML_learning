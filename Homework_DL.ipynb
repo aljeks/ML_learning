{
 "cells": [
  {
   "cell_type": "code",
   "execution_count": 1,
   "id": "4600db49",
   "metadata": {},
   "outputs": [],
   "source": [
    "#!wget https://github.com/alexeygrigorev/large-datasets/releases/download/dogs-cats/train.zip"
   ]
  },
  {
   "cell_type": "code",
   "execution_count": 2,
   "id": "dac4581f",
   "metadata": {},
   "outputs": [
    {
     "name": "stderr",
     "output_type": "stream",
     "text": [
      "2021-11-22 01:24:47.449663: W tensorflow/stream_executor/platform/default/dso_loader.cc:64] Could not load dynamic library 'libcudart.so.11.0'; dlerror: libcudart.so.11.0: cannot open shared object file: No such file or directory\n",
      "2021-11-22 01:24:47.449704: I tensorflow/stream_executor/cuda/cudart_stub.cc:29] Ignore above cudart dlerror if you do not have a GPU set up on your machine.\n"
     ]
    }
   ],
   "source": [
    "import numpy as np\n",
    "import matplotlib.pyplot as plt\n",
    "import tensorflow as tf\n",
    "from tensorflow import keras\n",
    "from tensorflow.keras.preprocessing.image import load_img\n",
    "import os\n",
    "import shutil\n",
    "\n",
    "%matplotlib inline"
   ]
  },
  {
   "cell_type": "code",
   "execution_count": 3,
   "id": "4f2161e7",
   "metadata": {},
   "outputs": [],
   "source": [
    "#os.chdir('08-deep-learning')\n",
    "#os.listdir() "
   ]
  },
  {
   "cell_type": "code",
   "execution_count": 4,
   "id": "4b096af4",
   "metadata": {},
   "outputs": [],
   "source": [
    "#for filename in os.listdir('cats'):\n",
    "    #shutil.copy(filename, 'train/cats')"
   ]
  },
  {
   "cell_type": "code",
   "execution_count": 5,
   "id": "e1f18fa7",
   "metadata": {},
   "outputs": [],
   "source": [
    "from tensorflow.keras.applications.xception import Xception\n",
    "from tensorflow.keras.applications.xception import preprocess_input\n",
    "from tensorflow.keras.applications.xception import decode_predictions\n",
    "from tensorflow.keras.preprocessing.image import ImageDataGenerator"
   ]
  },
  {
   "cell_type": "code",
   "execution_count": 6,
   "id": "55faa1bd",
   "metadata": {},
   "outputs": [
    {
     "name": "stdout",
     "output_type": "stream",
     "text": [
      "Found 20000 images belonging to 2 classes.\n"
     ]
    }
   ],
   "source": [
    "train_gen = ImageDataGenerator(rescale=1./255)\n",
    "\n",
    "train_ds = train_gen.flow_from_directory(\n",
    "    './train/train',\n",
    "    target_size=(150, 150),\n",
    "    batch_size=20,\n",
    "    shuffle=True,\n",
    "    class_mode='binary'\n",
    ")"
   ]
  },
  {
   "cell_type": "code",
   "execution_count": 7,
   "id": "4116b8a2",
   "metadata": {},
   "outputs": [
    {
     "data": {
      "text/plain": [
       "{'cats': 0, 'dogs': 1}"
      ]
     },
     "execution_count": 7,
     "metadata": {},
     "output_type": "execute_result"
    }
   ],
   "source": [
    "train_ds.class_indices"
   ]
  },
  {
   "cell_type": "code",
   "execution_count": 8,
   "id": "dead9ea4",
   "metadata": {},
   "outputs": [
    {
     "data": {
      "text/plain": [
       "array([1., 0., 1., 1., 0.], dtype=float32)"
      ]
     },
     "execution_count": 8,
     "metadata": {},
     "output_type": "execute_result"
    }
   ],
   "source": [
    "X, y = next(train_ds)\n",
    "y[:5]"
   ]
  },
  {
   "cell_type": "code",
   "execution_count": 9,
   "id": "d481f0d9",
   "metadata": {},
   "outputs": [
    {
     "name": "stdout",
     "output_type": "stream",
     "text": [
      "Found 5000 images belonging to 2 classes.\n"
     ]
    }
   ],
   "source": [
    "val_gen = ImageDataGenerator(rescale=1./255)\n",
    "\n",
    "val_ds = val_gen.flow_from_directory(\n",
    "    './train/validation',\n",
    "    target_size=(150, 150),\n",
    "    batch_size=20,\n",
    "    shuffle=True,\n",
    "    class_mode='binary'\n",
    ")"
   ]
  },
  {
   "cell_type": "code",
   "execution_count": 10,
   "id": "49af0dce",
   "metadata": {},
   "outputs": [
    {
     "name": "stderr",
     "output_type": "stream",
     "text": [
      "2021-11-22 01:24:52.584038: W tensorflow/stream_executor/platform/default/dso_loader.cc:64] Could not load dynamic library 'libcuda.so.1'; dlerror: libcuda.so.1: cannot open shared object file: No such file or directory\n",
      "2021-11-22 01:24:52.584067: W tensorflow/stream_executor/cuda/cuda_driver.cc:269] failed call to cuInit: UNKNOWN ERROR (303)\n",
      "2021-11-22 01:24:52.584085: I tensorflow/stream_executor/cuda/cuda_diagnostics.cc:156] kernel driver does not appear to be running on this host (aljekso-VirtualBox): /proc/driver/nvidia/version does not exist\n",
      "2021-11-22 01:24:52.585722: I tensorflow/core/platform/cpu_feature_guard.cc:151] This TensorFlow binary is optimized with oneAPI Deep Neural Network Library (oneDNN) to use the following CPU instructions in performance-critical operations:  AVX2\n",
      "To enable them in other operations, rebuild TensorFlow with the appropriate compiler flags.\n"
     ]
    }
   ],
   "source": [
    "from keras.models import Sequential\n",
    "from tensorflow.keras.optimizers import SGD\n",
    "from keras.layers import Conv2D, MaxPooling2D\n",
    "from keras.layers import Activation, Dropout, Flatten, Dense\n",
    "\n",
    "model = Sequential()\n",
    "model.add(Conv2D(32, (3, 3), input_shape=(150, 150, 3)))\n",
    "model.add(Activation('relu'))\n",
    "model.add(MaxPooling2D(pool_size=(2, 2)))\n",
    "\n",
    "model.add(Flatten())  # this converts our 3D feature maps to 1D feature vectors\n",
    "model.add(Dense(64))\n",
    "model.add(Activation('relu'))\n",
    "#model.add(Dropout(0.5))\n",
    "model.add(Dense(1))\n",
    "model.add(Activation('sigmoid'))\n",
    "\n",
    "opt = SGD(learning_rate=0.002, momentum=0.8)\n",
    "\n",
    "model.compile(loss='binary_crossentropy',\n",
    "              optimizer=opt,\n",
    "              metrics=['accuracy'])"
   ]
  },
  {
   "cell_type": "code",
   "execution_count": 11,
   "id": "22824418",
   "metadata": {},
   "outputs": [
    {
     "name": "stdout",
     "output_type": "stream",
     "text": [
      "Model: \"sequential\"\n",
      "_________________________________________________________________\n",
      " Layer (type)                Output Shape              Param #   \n",
      "=================================================================\n",
      " conv2d (Conv2D)             (None, 148, 148, 32)      896       \n",
      "                                                                 \n",
      " activation (Activation)     (None, 148, 148, 32)      0         \n",
      "                                                                 \n",
      " max_pooling2d (MaxPooling2D  (None, 74, 74, 32)       0         \n",
      " )                                                               \n",
      "                                                                 \n",
      " flatten (Flatten)           (None, 175232)            0         \n",
      "                                                                 \n",
      " dense (Dense)               (None, 64)                11214912  \n",
      "                                                                 \n",
      " activation_1 (Activation)   (None, 64)                0         \n",
      "                                                                 \n",
      " dense_1 (Dense)             (None, 1)                 65        \n",
      "                                                                 \n",
      " activation_2 (Activation)   (None, 1)                 0         \n",
      "                                                                 \n",
      "=================================================================\n",
      "Total params: 11,215,873\n",
      "Trainable params: 11,215,873\n",
      "Non-trainable params: 0\n",
      "_________________________________________________________________\n"
     ]
    }
   ],
   "source": [
    "model.summary()"
   ]
  },
  {
   "cell_type": "code",
   "execution_count": 12,
   "id": "e6dedeb6",
   "metadata": {},
   "outputs": [
    {
     "name": "stdout",
     "output_type": "stream",
     "text": [
      "Epoch 1/10\n",
      "100/100 [==============================] - 54s 538ms/step - loss: 0.7001 - accuracy: 0.5205 - val_loss: 0.6886 - val_accuracy: 0.5660\n",
      "Epoch 2/10\n",
      "100/100 [==============================] - 44s 444ms/step - loss: 0.6854 - accuracy: 0.5550 - val_loss: 0.6828 - val_accuracy: 0.5790\n",
      "Epoch 3/10\n",
      "100/100 [==============================] - 48s 479ms/step - loss: 0.6790 - accuracy: 0.5720 - val_loss: 0.6844 - val_accuracy: 0.5600\n",
      "Epoch 4/10\n",
      "100/100 [==============================] - 44s 443ms/step - loss: 0.6744 - accuracy: 0.5865 - val_loss: 0.6891 - val_accuracy: 0.5400\n",
      "Epoch 5/10\n",
      "100/100 [==============================] - 44s 442ms/step - loss: 0.6708 - accuracy: 0.5875 - val_loss: 0.6713 - val_accuracy: 0.5920\n",
      "Epoch 6/10\n",
      "100/100 [==============================] - 45s 450ms/step - loss: 0.6710 - accuracy: 0.5920 - val_loss: 0.6671 - val_accuracy: 0.5790\n",
      "Epoch 7/10\n",
      "100/100 [==============================] - 63s 629ms/step - loss: 0.6606 - accuracy: 0.6035 - val_loss: 0.6478 - val_accuracy: 0.6170\n",
      "Epoch 8/10\n",
      "100/100 [==============================] - 55s 546ms/step - loss: 0.6562 - accuracy: 0.6030 - val_loss: 0.6944 - val_accuracy: 0.5730\n",
      "Epoch 9/10\n",
      "100/100 [==============================] - 52s 515ms/step - loss: 0.6582 - accuracy: 0.5810 - val_loss: 0.6421 - val_accuracy: 0.6170\n",
      "Epoch 10/10\n",
      "100/100 [==============================] - 50s 500ms/step - loss: 0.6388 - accuracy: 0.6260 - val_loss: 0.6491 - val_accuracy: 0.6060\n"
     ]
    }
   ],
   "source": [
    "history = model.fit(\n",
    "    train_ds,\n",
    "    steps_per_epoch=100,\n",
    "    epochs=10,\n",
    "    validation_data=val_ds,\n",
    "    validation_steps=50\n",
    ")"
   ]
  },
  {
   "cell_type": "code",
   "execution_count": 13,
   "id": "07591a90",
   "metadata": {},
   "outputs": [
    {
     "data": {
      "text/plain": [
       "<matplotlib.legend.Legend at 0x7febf1578610>"
      ]
     },
     "execution_count": 13,
     "metadata": {},
     "output_type": "execute_result"
    },
    {
     "data": {
      "image/png": "[encoded data removed]",
      "text/plain": [
       "<Figure size 432x288 with 1 Axes>"
      ]
     },
     "metadata": {
      "needs_background": "light"
     },
     "output_type": "display_data"
    }
   ],
   "source": [
    "plt.plot(history.history['accuracy'], label='train')\n",
    "plt.xticks(np.arange(10))\n",
    "plt.legend()"
   ]
  },
  {
   "cell_type": "code",
   "execution_count": 14,
   "id": "b056b8fc",
   "metadata": {},
   "outputs": [
    {
     "data": {
      "text/plain": [
       "0.5869999825954437"
      ]
     },
     "execution_count": 14,
     "metadata": {},
     "output_type": "execute_result"
    }
   ],
   "source": [
    "np.median(history.history['accuracy']) #0.6372500061988831 0.5867500007152557"
   ]
  },
  {
   "cell_type": "code",
   "execution_count": 15,
   "id": "2a3a2e5e",
   "metadata": {},
   "outputs": [
    {
     "data": {
      "text/plain": [
       "0.016225953686594408"
      ]
     },
     "execution_count": 15,
     "metadata": {},
     "output_type": "execute_result"
    }
   ],
   "source": [
    "np.std(history.history['loss'])"
   ]
  },
  {
   "cell_type": "code",
   "execution_count": 16,
   "id": "49f52f94",
   "metadata": {},
   "outputs": [],
   "source": [
    "model.save('partly_trained2.h5')"
   ]
  },
  {
   "cell_type": "code",
   "execution_count": 17,
   "id": "2141acf5",
   "metadata": {},
   "outputs": [
    {
     "name": "stdout",
     "output_type": "stream",
     "text": [
      "Found 20000 images belonging to 2 classes.\n",
      "Found 5000 images belonging to 2 classes.\n",
      "Epoch 1/10\n",
      "100/100 [==============================] - 72s 714ms/step - loss: 0.6632 - accuracy: 0.5900 - val_loss: 0.6644 - val_accuracy: 0.5930\n",
      "Epoch 2/10\n",
      "100/100 [==============================] - 61s 605ms/step - loss: 0.6692 - accuracy: 0.5750 - val_loss: 0.6675 - val_accuracy: 0.5800\n",
      "Epoch 3/10\n",
      "100/100 [==============================] - 59s 592ms/step - loss: 0.6701 - accuracy: 0.5705 - val_loss: 0.6600 - val_accuracy: 0.5900\n",
      "Epoch 4/10\n",
      "100/100 [==============================] - 60s 599ms/step - loss: 0.6645 - accuracy: 0.5825 - val_loss: 0.6653 - val_accuracy: 0.5980\n",
      "Epoch 5/10\n",
      "100/100 [==============================] - 60s 601ms/step - loss: 0.6676 - accuracy: 0.5900 - val_loss: 0.6592 - val_accuracy: 0.6000\n",
      "Epoch 6/10\n",
      "100/100 [==============================] - 59s 584ms/step - loss: 0.6594 - accuracy: 0.5910 - val_loss: 0.6527 - val_accuracy: 0.6210\n",
      "Epoch 7/10\n",
      "100/100 [==============================] - 58s 583ms/step - loss: 0.6613 - accuracy: 0.5935 - val_loss: 0.6576 - val_accuracy: 0.5910\n",
      "Epoch 8/10\n",
      "100/100 [==============================] - 58s 583ms/step - loss: 0.6498 - accuracy: 0.6055 - val_loss: 0.6392 - val_accuracy: 0.6240\n",
      "Epoch 9/10\n",
      "100/100 [==============================] - 58s 579ms/step - loss: 0.6485 - accuracy: 0.6130 - val_loss: 0.6446 - val_accuracy: 0.6250\n",
      "Epoch 10/10\n",
      "100/100 [==============================] - 58s 577ms/step - loss: 0.6561 - accuracy: 0.5975 - val_loss: 0.6370 - val_accuracy: 0.6350\n"
     ]
    }
   ],
   "source": [
    "train_gen2 = ImageDataGenerator(rescale=1./255,\n",
    "                              rotation_range=40,\n",
    "                              width_shift_range=0.2,\n",
    "                              height_shift_range=0.2,\n",
    "                              shear_range=0.2,\n",
    "                              zoom_range=0.2,\n",
    "                              horizontal_flip=True,\n",
    "                              fill_mode='nearest')\n",
    "\n",
    "train_ds2 = train_gen2.flow_from_directory(\n",
    "    './train/train',\n",
    "    target_size=(150, 150),\n",
    "    batch_size=20,\n",
    "    shuffle=True,\n",
    "    class_mode='binary'\n",
    ")\n",
    "\n",
    "val_gen2 = ImageDataGenerator(rescale=1./255,\n",
    "                             rotation_range=40,\n",
    "                             width_shift_range=0.2,\n",
    "                             height_shift_range=0.2,\n",
    "                             shear_range=0.2,\n",
    "                             zoom_range=0.2,\n",
    "                             horizontal_flip=True,\n",
    "                             fill_mode='nearest')\n",
    "\n",
    "val_ds2 = val_gen2.flow_from_directory(\n",
    "    './train/validation',\n",
    "    target_size=(150, 150),\n",
    "    batch_size=20,\n",
    "    shuffle=True,\n",
    "    class_mode='binary'\n",
    ")\n",
    "\n",
    "from keras.models import load_model\n",
    "model2 = load_model('partly_trained2.h5')\n",
    "\n",
    "history2 = model2.fit(\n",
    "    train_ds2,\n",
    "    steps_per_epoch=100,\n",
    "    epochs=10,\n",
    "    validation_data=val_ds2,\n",
    "    validation_steps=50\n",
    ")"
   ]
  },
  {
   "cell_type": "code",
   "execution_count": 18,
   "id": "9b16e3a5",
   "metadata": {},
   "outputs": [
    {
     "data": {
      "text/plain": [
       "<matplotlib.legend.Legend at 0x7febf495a490>"
      ]
     },
     "execution_count": 18,
     "metadata": {},
     "output_type": "execute_result"
    },
    {
     "data": {
      "image/png": "[encoded data removed]",
      "text/plain": [
       "<Figure size 432x288 with 1 Axes>"
      ]
     },
     "metadata": {
      "needs_background": "light"
     },
     "output_type": "display_data"
    }
   ],
   "source": [
    "plt.plot(history2.history['accuracy'], label='train')\n",
    "plt.xticks(np.arange(10))\n",
    "plt.legend()"
   ]
  },
  {
   "cell_type": "code",
   "execution_count": 19,
   "id": "6b6c3060",
   "metadata": {},
   "outputs": [
    {
     "data": {
      "text/plain": [
       "0.6547664284706116"
      ]
     },
     "execution_count": 19,
     "metadata": {},
     "output_type": "execute_result"
    }
   ],
   "source": [
    "np.mean(history2.history['val_loss'])"
   ]
  },
  {
   "cell_type": "code",
   "execution_count": 20,
   "id": "806e3999",
   "metadata": {},
   "outputs": [
    {
     "data": {
      "text/plain": [
       "0.6187500059604645"
      ]
     },
     "execution_count": 20,
     "metadata": {},
     "output_type": "execute_result"
    }
   ],
   "source": [
    "np.average(history2.history['val_accuracy'][6:])"
   ]
  },
  {
   "cell_type": "code",
   "execution_count": 21,
   "id": "b8da1b12",
   "metadata": {},
   "outputs": [
    {
     "name": "stdout",
     "output_type": "stream",
     "text": [
      "Epoch 1/10\n",
      "100/100 [==============================] - 58s 580ms/step - loss: 0.6660 - accuracy: 0.5835 - val_loss: 0.6565 - val_accuracy: 0.5950\n",
      "Epoch 2/10\n",
      "100/100 [==============================] - 58s 577ms/step - loss: 0.6654 - accuracy: 0.5885 - val_loss: 0.6709 - val_accuracy: 0.5970\n",
      "Epoch 3/10\n",
      "100/100 [==============================] - 62s 623ms/step - loss: 0.6651 - accuracy: 0.5940 - val_loss: 0.6573 - val_accuracy: 0.6120\n",
      "Epoch 4/10\n",
      "100/100 [==============================] - 60s 596ms/step - loss: 0.6622 - accuracy: 0.5890 - val_loss: 0.6651 - val_accuracy: 0.5610\n",
      "Epoch 5/10\n",
      "100/100 [==============================] - 60s 597ms/step - loss: 0.6684 - accuracy: 0.5870 - val_loss: 0.6617 - val_accuracy: 0.5910\n",
      "Epoch 6/10\n",
      "100/100 [==============================] - 60s 597ms/step - loss: 0.6542 - accuracy: 0.6060 - val_loss: 0.6524 - val_accuracy: 0.6220\n",
      "Epoch 7/10\n",
      "100/100 [==============================] - 60s 594ms/step - loss: 0.6598 - accuracy: 0.5950 - val_loss: 0.6467 - val_accuracy: 0.6120\n",
      "Epoch 8/10\n",
      "100/100 [==============================] - 60s 597ms/step - loss: 0.6515 - accuracy: 0.6135 - val_loss: 0.6659 - val_accuracy: 0.5910\n",
      "Epoch 9/10\n",
      "100/100 [==============================] - 60s 595ms/step - loss: 0.6542 - accuracy: 0.6060 - val_loss: 0.6396 - val_accuracy: 0.6190\n",
      "Epoch 10/10\n",
      "100/100 [==============================] - 59s 594ms/step - loss: 0.6513 - accuracy: 0.6105 - val_loss: 0.6489 - val_accuracy: 0.6160\n"
     ]
    }
   ],
   "source": [
    "history = model.fit(\n",
    "    train_ds2,\n",
    "    steps_per_epoch=100,\n",
    "    epochs=10,\n",
    "    validation_data=val_ds2,\n",
    "    validation_steps=50\n",
    ")"
   ]
  },
  {
   "cell_type": "code",
   "execution_count": 22,
   "id": "f668172a",
   "metadata": {},
   "outputs": [
    {
     "data": {
      "text/plain": [
       "0.6564920604228973"
      ]
     },
     "execution_count": 22,
     "metadata": {},
     "output_type": "execute_result"
    }
   ],
   "source": [
    "np.mean(history.history['val_loss'])"
   ]
  },
  {
   "cell_type": "code",
   "execution_count": 23,
   "id": "6d202c43",
   "metadata": {},
   "outputs": [
    {
     "data": {
      "text/plain": [
       "0.6095000058412552"
      ]
     },
     "execution_count": 23,
     "metadata": {},
     "output_type": "execute_result"
    }
   ],
   "source": [
    "np.average(history.history['val_accuracy'][6:])"
   ]
  },
  {
   "cell_type": "code",
   "execution_count": 24,
   "id": "5358cab9",
   "metadata": {},
   "outputs": [
    {
     "data": {
      "text/plain": [
       "<matplotlib.legend.Legend at 0x7fec70553e80>"
      ]
     },
     "execution_count": 24,
     "metadata": {},
     "output_type": "execute_result"
    },
    {
     "data": {
      "image/png": "[encoded data removed]",
      "text/plain": [
       "<Figure size 432x288 with 1 Axes>"
      ]
     },
     "metadata": {
      "needs_background": "light"
     },
     "output_type": "display_data"
    }
   ],
   "source": [
    "plt.plot(history.history['accuracy'], label='train')\n",
    "plt.xticks(np.arange(10))\n",
    "plt.legend()"
   ]
  },
  {
   "cell_type": "code",
   "execution_count": null,
   "id": "1eb60dd5",
   "metadata": {},
   "outputs": [],
   "source": []
  }
 ],
 "metadata": {
  "kernelspec": {
   "display_name": "Python 3 (ipykernel)",
   "language": "python",
   "name": "python3"
  },
  "language_info": {
   "codemirror_mode": {
    "name": "ipython",
    "version": 3
   },
   "file_extension": ".py",
   "mimetype": "text/x-python",
   "name": "python",
   "nbconvert_exporter": "python",
   "pygments_lexer": "ipython3",
   "version": "3.8.8"
  }
 },
 "nbformat": 4,
 "nbformat_minor": 5
}
