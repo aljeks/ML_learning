{
 "cells": [
  {
   "cell_type": "code",
   "execution_count": 5,
   "id": "4f174096",
   "metadata": {},
   "outputs": [
    {
     "name": "stdout",
     "output_type": "stream",
     "text": [
      "{'churn': False, 'churn_probability': 0.11549580587832914}\n",
      "not sending promo email to test_customer_01\n",
      "{'churn': True, 'churn_probability': 0.9988892771007961}\n",
      "sending promo email to test_customer_02\n"
     ]
    }
   ],
   "source": [
    "import requests\n",
    "\n",
    "\n",
    "url = 'http://localhost:9696/predict'\n",
    "\n",
    "customer_id = 'test_customer_01'\n",
    "customer = {\"contract\": \"two_year\", \"tenure\": 12, \"monthlycharges\": 19.7}\n",
    "customer_id_02 = 'test_customer_02'\n",
    "customer2 = {\"contract\": \"two_year\", \"tenure\": 1, \"monthlycharges\": 10}\n",
    "\n",
    "\n",
    "response = requests.post(url, json=customer).json()\n",
    "print(response)\n",
    "\n",
    "if response['churn'] == True:\n",
    "    print('sending promo email to %s' % customer_id)\n",
    "else:\n",
    "    print('not sending promo email to %s' % customer_id)\n",
    "    \n",
    "response = requests.post(url, json=customer2).json()\n",
    "print(response)\n",
    "\n",
    "if response['churn'] == True:\n",
    "    print('sending promo email to %s' % customer_id_02)\n",
    "else:\n",
    "    print('not sending promo email to %s' % customer_id_02)"
   ]
  },
  {
   "cell_type": "code",
   "execution_count": null,
   "id": "bd3832d1",
   "metadata": {},
   "outputs": [],
   "source": []
  },
  {
   "cell_type": "code",
   "execution_count": null,
   "id": "b10ad136",
   "metadata": {},
   "outputs": [],
   "source": []
  },
  {
   "cell_type": "code",
   "execution_count": null,
   "id": "e5e05198",
   "metadata": {},
   "outputs": [],
   "source": []
  }
 ],
 "metadata": {
  "kernelspec": {
   "display_name": "Python 3 (ipykernel)",
   "language": "python",
   "name": "python3"
  },
  "language_info": {
   "codemirror_mode": {
    "name": "ipython",
    "version": 3
   },
   "file_extension": ".py",
   "mimetype": "text/x-python",
   "name": "python",
   "nbconvert_exporter": "python",
   "pygments_lexer": "ipython3",
   "version": "3.8.8"
  }
 },
 "nbformat": 4,
 "nbformat_minor": 5
}
